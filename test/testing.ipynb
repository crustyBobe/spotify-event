{
 "cells": [
  {
   "cell_type": "code",
   "execution_count": null,
   "id": "09dc968f",
   "metadata": {
    "vscode": {
     "languageId": "plaintext"
    }
   },
   "outputs": [],
   "source": [
    "import requests\n",
    "import os"
   ]
  },
  {
   "cell_type": "code",
   "execution_count": null,
   "id": "995f1855",
   "metadata": {
    "vscode": {
     "languageId": "plaintext"
    }
   },
   "outputs": [],
   "source": [
    "# Set auth credentials\n",
    "CLIENT_ID = os.environ['CLIENT_ID']\n",
    "CLIENT_SECRET = os.environ['CLIENT_SECRET']\n",
    "AUTH_URL = 'https://accounts.spotify.com/api/token'\n",
    "BASE_URL = 'https://api.spotify.com/v1/'"
   ]
  }
 ],
 "metadata": {
  "language_info": {
   "name": "python"
  }
 },
 "nbformat": 4,
 "nbformat_minor": 5
}
